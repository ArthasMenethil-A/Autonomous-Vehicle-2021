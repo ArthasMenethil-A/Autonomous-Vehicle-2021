{
 "cells": [
  {
   "cell_type": "markdown",
   "id": "1fe362e3",
   "metadata": {},
   "source": [
    "# Driver Monitoring - Fine Tuning Yolo\n",
    "-------"
   ]
  },
  {
   "cell_type": "markdown",
   "id": "f84da50c",
   "metadata": {},
   "source": [
    "## Imports \n",
    "-----"
   ]
  },
  {
   "cell_type": "code",
   "execution_count": null,
   "id": "430f6c7f",
   "metadata": {},
   "outputs": [],
   "source": [
    "import torch\n",
    "import cv2\n",
    "import numpy as np \n",
    "from matplotlib import pyplot as plt \n",
    "torch.cuda.empty_cache()\n",
    "%matplotlib inline "
   ]
  },
  {
   "cell_type": "code",
   "execution_count": null,
   "id": "f06a2036",
   "metadata": {},
   "outputs": [],
   "source": [
    "!pip install --upgrade pip"
   ]
  },
  {
   "cell_type": "markdown",
   "id": "474cebf7",
   "metadata": {},
   "source": [
    "## Label Images\n",
    "------"
   ]
  },
  {
   "cell_type": "markdown",
   "id": "2d67e631",
   "metadata": {},
   "source": [
    "run the following commands in cmd"
   ]
  },
  {
   "cell_type": "code",
   "execution_count": null,
   "id": "45e2be49",
   "metadata": {},
   "outputs": [],
   "source": [
    "!git clone https://github.com/tzutalin/labelImg"
   ]
  },
  {
   "cell_type": "markdown",
   "id": "1514fbee",
   "metadata": {},
   "source": [
    "run the following commands in cmd"
   ]
  },
  {
   "cell_type": "code",
   "execution_count": null,
   "id": "09a1ac85",
   "metadata": {},
   "outputs": [],
   "source": [
    "!pip install pyqt5 lxml --upgrade\n",
    "!cd labelImg && pyrcc5 -o libs/resources.py resources.qrc\n",
    "!cd labelImg && python labelImg.py"
   ]
  },
  {
   "cell_type": "markdown",
   "id": "5d5abf4c",
   "metadata": {},
   "source": [
    "## Train Yolo-V5\n",
    "----------"
   ]
  },
  {
   "cell_type": "markdown",
   "id": "ae3adf1a",
   "metadata": {},
   "source": [
    "run the following commands in cmd"
   ]
  },
  {
   "cell_type": "code",
   "execution_count": null,
   "id": "650cea12",
   "metadata": {},
   "outputs": [],
   "source": [
    "!cd yolov5 && python train.py --img 320 --batch 4 --epochs 150 --data dataset.yml --weights yolov5s.pt --workers 1"
   ]
  },
  {
   "cell_type": "markdown",
   "id": "3cae6fe0",
   "metadata": {},
   "source": [
    "## Load Custom Model "
   ]
  },
  {
   "cell_type": "code",
   "execution_count": null,
   "id": "0b5010e6",
   "metadata": {},
   "outputs": [],
   "source": [
    "model = torch.hub.load('ultralytics/yolov5', 'custom', path='yolov5/runs/train/exp12/weights/last.pt', force_reload=True)"
   ]
  }
 ],
 "metadata": {
  "kernelspec": {
   "display_name": "ai",
   "language": "python",
   "name": "ai"
  },
  "language_info": {
   "codemirror_mode": {
    "name": "ipython",
    "version": 3
   },
   "file_extension": ".py",
   "mimetype": "text/x-python",
   "name": "python",
   "nbconvert_exporter": "python",
   "pygments_lexer": "ipython3",
   "version": "3.10.4"
  }
 },
 "nbformat": 4,
 "nbformat_minor": 5
}
