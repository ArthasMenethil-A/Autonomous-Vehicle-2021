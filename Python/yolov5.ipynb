{
 "cells": [
  {
   "cell_type": "markdown",
   "id": "09bb92ec",
   "metadata": {},
   "source": [
    "# Yolo-V5 \n",
    "------\n",
    "This code is for using the default yolo-v5 model on a test image"
   ]
  },
  {
   "cell_type": "markdown",
   "id": "6819e79e",
   "metadata": {},
   "source": [
    "## Imports\n",
    "------"
   ]
  },
  {
   "cell_type": "code",
   "execution_count": null,
   "id": "63b954bd",
   "metadata": {},
   "outputs": [],
   "source": [
    "import torch\n",
    "import cv2\n",
    "import numpy as np \n",
    "from matplotlib import pyplot as plt \n",
    "torch.cuda.empty_cache()\n",
    "%matplotlib inline "
   ]
  },
  {
   "cell_type": "markdown",
   "id": "79b5abfe",
   "metadata": {},
   "source": [
    "Clone Yolo Repository:"
   ]
  },
  {
   "cell_type": "code",
   "execution_count": null,
   "id": "5d65e47b",
   "metadata": {},
   "outputs": [],
   "source": [
    "!git clone https://github.com/ultralytics/yolov5"
   ]
  },
  {
   "cell_type": "markdown",
   "id": "2e8b1fce",
   "metadata": {},
   "source": [
    "## Load Model\n",
    "--------"
   ]
  },
  {
   "cell_type": "code",
   "execution_count": null,
   "id": "dc7c3740",
   "metadata": {},
   "outputs": [],
   "source": [
    "img = # path to some image \n",
    "\n",
    "model = torch.hub.load('ultralytics/yolov5', 'yolov5s')"
   ]
  },
  {
   "cell_type": "markdown",
   "id": "bb9a2767",
   "metadata": {},
   "source": [
    "using model for object detection"
   ]
  },
  {
   "cell_type": "code",
   "execution_count": null,
   "id": "ed74d0c4",
   "metadata": {},
   "outputs": [],
   "source": [
    "results = model(img)\n",
    "results.print()"
   ]
  },
  {
   "cell_type": "markdown",
   "id": "016a91eb",
   "metadata": {},
   "source": [
    "showing the results of prediction "
   ]
  },
  {
   "cell_type": "code",
   "execution_count": null,
   "id": "31559fe5",
   "metadata": {},
   "outputs": [],
   "source": [
    "plt.imshow(np.squeeze(results.render()))\n",
    "plt.show()"
   ]
  }
 ],
 "metadata": {
  "kernelspec": {
   "display_name": "Python 3 (ipykernel)",
   "language": "python",
   "name": "python3"
  },
  "language_info": {
   "codemirror_mode": {
    "name": "ipython",
    "version": 3
   },
   "file_extension": ".py",
   "mimetype": "text/x-python",
   "name": "python",
   "nbconvert_exporter": "python",
   "pygments_lexer": "ipython3",
   "version": "3.10.4"
  }
 },
 "nbformat": 4,
 "nbformat_minor": 5
}
