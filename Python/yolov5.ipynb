{
 "cells": [
  {
   "cell_type": "markdown",
   "id": "fffe2e4c",
   "metadata": {},
   "source": [
    "# Yolo-V5 \n",
    "------\n",
    "This code is for using the default yolo-v5 model on a test image"
   ]
  },
  {
   "cell_type": "markdown",
   "id": "9d7bd5d1",
   "metadata": {},
   "source": [
    "## Imports\n",
    "------"
   ]
  },
  {
   "cell_type": "code",
   "execution_count": null,
   "id": "a9c7c9c7",
   "metadata": {},
   "outputs": [],
   "source": [
    "import torch\n",
    "import cv2\n",
    "import numpy as np \n",
    "from matplotlib import pyplot as plt \n",
    "torch.cuda.empty_cache()\n",
    "%matplotlib inline "
   ]
  },
  {
   "cell_type": "markdown",
   "id": "7d4b622e",
   "metadata": {},
   "source": [
    "Clone Yolo Repository:"
   ]
  },
  {
   "cell_type": "code",
   "execution_count": null,
   "id": "da9c2ae9",
   "metadata": {},
   "outputs": [],
   "source": [
    "!git clone https://github.com/ultralytics/yolov5"
   ]
  },
  {
   "cell_type": "markdown",
   "id": "a060372a",
   "metadata": {},
   "source": [
    "## Load Model\n",
    "--------"
   ]
  },
  {
   "cell_type": "code",
   "execution_count": null,
   "id": "46d6ac77",
   "metadata": {},
   "outputs": [],
   "source": [
    "img = # path to some image \n",
    "\n",
    "model = torch.hub.load('ultralytics/yolov5', 'yolov5s')"
   ]
  },
  {
   "cell_type": "markdown",
   "id": "05b9c9f9",
   "metadata": {},
   "source": [
    "using model for object detection"
   ]
  },
  {
   "cell_type": "code",
   "execution_count": null,
   "id": "c8a732e6",
   "metadata": {},
   "outputs": [],
   "source": [
    "results = model(img)\n",
    "results.print()"
   ]
  },
  {
   "cell_type": "markdown",
   "id": "d4e427d2",
   "metadata": {},
   "source": [
    "showing the results of prediction "
   ]
  },
  {
   "cell_type": "code",
   "execution_count": null,
   "id": "7d9e7c44",
   "metadata": {},
   "outputs": [],
   "source": [
    "plt.imshow(np.squeeze(results.render()))\n",
    "plt.show()"
   ]
  },
  {
   "cell_type": "markdown",
   "id": "9c5fb283",
   "metadata": {},
   "source": [
    "## Use Webcam\n",
    "--------"
   ]
  },
  {
   "cell_type": "code",
   "execution_count": null,
   "id": "1e960b55",
   "metadata": {},
   "outputs": [],
   "source": [
    "cap = cv2.VideoCapture(0) # activates the webcam \n",
    "while cap.isOpen():\n",
    "    ret, frame = cap.read()\n",
    "    \n",
    "    results = model(frame)\n",
    "    \n",
    "    cv2.imshow('YOLO', np.squeeze(results.render()))\n",
    "    \n",
    "    if cv2.waitKey(10) & 0xFF == ord('q'):\n",
    "        break \n",
    "        \n",
    "cap.release()\n",
    "cv2.destroyAllWindows()"
   ]
  }
 ],
 "metadata": {
  "kernelspec": {
   "display_name": "Python 3 (ipykernel)",
   "language": "python",
   "name": "python3"
  },
  "language_info": {
   "codemirror_mode": {
    "name": "ipython",
    "version": 3
   },
   "file_extension": ".py",
   "mimetype": "text/x-python",
   "name": "python",
   "nbconvert_exporter": "python",
   "pygments_lexer": "ipython3",
   "version": "3.10.4"
  }
 },
 "nbformat": 4,
 "nbformat_minor": 5
}
